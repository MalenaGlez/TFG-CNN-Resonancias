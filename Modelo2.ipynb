{
  "cells": [
    {
      "cell_type": "markdown",
      "metadata": {
        "id": "view-in-github",
        "colab_type": "text"
      },
      "source": [
        "<a href=\"https://colab.research.google.com/github/MalenaGlez/TFG-CNN-Resonancias/blob/main/Modelo2.ipynb\" target=\"_parent\"><img src=\"https://colab.research.google.com/assets/colab-badge.svg\" alt=\"Open In Colab\"/></a>"
      ]
    },
    {
      "cell_type": "code",
      "execution_count": null,
      "metadata": {
        "colab": {
          "base_uri": "https://localhost:8080/"
        },
        "id": "CUCSEQc9TOEB",
        "outputId": "5d84c449-f1c4-4201-f326-bf4487772329"
      },
      "outputs": [
        {
          "output_type": "stream",
          "name": "stdout",
          "text": [
            "Mounted at /content/drive\n"
          ]
        }
      ],
      "source": [
        "from google.colab import drive\n",
        "drive.mount('/content/drive')"
      ]
    },
    {
      "cell_type": "code",
      "execution_count": null,
      "metadata": {
        "id": "M0phnZQJNLLH"
      },
      "outputs": [],
      "source": [
        "# Importaciones\n",
        "import os\n",
        "import cv2\n",
        "import numpy as np\n",
        "from sklearn.preprocessing import label_binarize\n",
        "\n",
        "import random\n",
        "import matplotlib.pyplot as plt\n",
        "\n",
        "import tensorflow as tf\n",
        "from tensorflow.keras.models import Sequential\n",
        "from tensorflow.keras.layers import Conv2D, MaxPooling2D, Flatten, Dense, Dropout, Input, BatchNormalization, Activation\n",
        "from tensorflow.keras.preprocessing.image import ImageDataGenerator\n",
        "from tensorflow.keras.callbacks import EarlyStopping\n",
        "from keras import metrics\n",
        "\n",
        "from sklearn.metrics import classification_report, confusion_matrix, roc_auc_score\n",
        "import shutil"
      ]
    },
    {
      "cell_type": "markdown",
      "metadata": {
        "id": "EeSqcWNrRjWX"
      },
      "source": [
        "Fijamos semilla para que los resultados sean reproducibles:"
      ]
    },
    {
      "cell_type": "code",
      "execution_count": null,
      "metadata": {
        "id": "kxwBsG-iRiwx"
      },
      "outputs": [],
      "source": [
        "semilla = 27\n",
        "\n",
        "np.random.seed(semilla)\n",
        "random.seed(semilla)\n",
        "tf.random.set_seed(semilla)\n",
        "os.environ['PYTHONHASHSEED'] = str(semilla)\n",
        "\n",
        "# Hacer deterministas las operaciones\n",
        "tf.keras.utils.set_random_seed(semilla)\n",
        "tf.config.experimental.enable_op_determinism()"
      ]
    },
    {
      "cell_type": "code",
      "execution_count": null,
      "metadata": {
        "id": "IHUABeuWTj2S"
      },
      "outputs": [],
      "source": [
        "#Rutas de los datos ya procesados:\n",
        "shutil.copytree('/content/drive/My Drive/processed_data2', '/content/processed_data2')\n",
        "\n",
        "train_dir = '/content/processed_data2/train'\n",
        "test_dir = '/content/processed_data2/test'\n",
        "val_dir = '/content/processed_data2/val'\n"
      ]
    },
    {
      "cell_type": "markdown",
      "metadata": {
        "id": "C6bK_s50Yyes"
      },
      "source": [
        "En este modelo, en vez de trabajar con las imágenes como arrays, se emplean generadores para poder realizar el aumento de datos mediante transformaciones.\n"
      ]
    },
    {
      "cell_type": "code",
      "execution_count": null,
      "metadata": {
        "colab": {
          "base_uri": "https://localhost:8080/"
        },
        "id": "oHC9JwQ-NXnJ",
        "outputId": "7558cdf0-e1bd-426a-9e50-3d648145c64d"
      },
      "outputs": [
        {
          "output_type": "stream",
          "name": "stdout",
          "text": [
            "Found 5322 images belonging to 3 classes.\n",
            "Found 1137 images belonging to 3 classes.\n",
            "Found 1141 images belonging to 3 classes.\n"
          ]
        }
      ],
      "source": [
        "# Transformaciones a las imágenes del conjunto de entrenamiento\n",
        "train_datagen = ImageDataGenerator(\n",
        "    rescale=1./255,\n",
        "    rotation_range=15,\n",
        "    width_shift_range=0.1,\n",
        "    height_shift_range=0.1,\n",
        "    shear_range=0.1,\n",
        "    zoom_range=0.1,\n",
        "    horizontal_flip=True,\n",
        "    brightness_range=[0.8, 1.2],\n",
        "    fill_mode='nearest'\n",
        ")\n",
        "\n",
        "# En los conjutos test y val no aplicamos las tranformaciones, solo escalamos\n",
        "# a 0 y 1, ya que queremos evaluar el modelo sobre datos reales.\n",
        "val_test_datagen = ImageDataGenerator(rescale=1./255)\n",
        "\n",
        "# Creación generadores\n",
        "train_generator = train_datagen.flow_from_directory(\n",
        "    train_dir,\n",
        "    target_size=(224, 224),       # Redimensión de las imágenes a 224x224 pixels\n",
        "    batch_size=32,                # Tamaño del batch\n",
        "    class_mode='sparse',     # Categorías al ser 3 clases (one-hot encoding)\n",
        "    color_mode='grayscale',\n",
        "    shuffle=True,                 # para que el modelo vea las imágenes en\n",
        "                                  # distinto orden en cada época\n",
        "    seed=semilla\n",
        ")\n",
        "\n",
        "test_generator = val_test_datagen.flow_from_directory(\n",
        "    test_dir,\n",
        "    target_size=(224, 224),\n",
        "    batch_size=32,\n",
        "    class_mode='sparse',\n",
        "    color_mode='grayscale',\n",
        "    shuffle=False,              # La evaluación siempre sobre el mismo orden\n",
        "    seed=semilla\n",
        ")\n",
        "\n",
        "validation_generator = val_test_datagen.flow_from_directory(\n",
        "    val_dir,\n",
        "    target_size=(224, 224),\n",
        "    batch_size=32,\n",
        "    class_mode='sparse',\n",
        "    color_mode='grayscale',\n",
        "    shuffle=False,\n",
        "    seed=semilla\n",
        ")"
      ]
    },
    {
      "cell_type": "code",
      "execution_count": null,
      "metadata": {
        "colab": {
          "base_uri": "https://localhost:8080/"
        },
        "id": "n-j0TBGSk0zh",
        "outputId": "6a330f46-604e-4e09-9cce-f5e19ebe92c6"
      },
      "outputs": [
        {
          "output_type": "stream",
          "name": "stdout",
          "text": [
            "Orden de clases en el generador: {'alzheimers_dataset': 0, 'normal': 1, 'parkinsons_dataset': 2}\n"
          ]
        }
      ],
      "source": [
        "print(\"Orden de clases en el generador:\", train_generator.class_indices)"
      ]
    },
    {
      "cell_type": "markdown",
      "source": [
        "# Configuración del entrenamiento\n",
        "\n",
        "1.   Creamos el modelo de red neuronal convolucional, compuesto por:\n",
        "      *   Cuatro bloques convolucionales.\n",
        "      *   Una capa densa y otra capa de salida.\n",
        "\n",
        "2.   Compilamos el modelo:\n",
        "      *   Como optimizador para los pesos usamos 'adam'.\n",
        "      *   La función de pérdida es 'sparse_categorical_crossentropy' porque el tipo de etiquetas son enteros (0, 1 o 2)."
      ],
      "metadata": {
        "id": "B9A71K4NtNW0"
      }
    },
    {
      "cell_type": "code",
      "execution_count": null,
      "metadata": {
        "id": "td_4vKWsN3Cf"
      },
      "outputs": [],
      "source": [
        "# Definición del modelo CNN\n",
        "modelo = Sequential([\n",
        "    Input(shape=(224, 224, 1)),  # imagenes en escala de grises\n",
        "\n",
        "    Conv2D(32, (3, 3)),\n",
        "    Activation('relu'),\n",
        "    MaxPooling2D(pool_size=(2, 2)),\n",
        "\n",
        "    Conv2D(64, (3, 3)),\n",
        "    Activation('relu'),\n",
        "    MaxPooling2D(pool_size=(2, 2)),\n",
        "\n",
        "    Conv2D(128, (3, 3)),\n",
        "    Activation('relu'),\n",
        "    MaxPooling2D(pool_size=(2, 2)),\n",
        "\n",
        "    Conv2D(256, (3, 3)),\n",
        "    Activation('relu'),\n",
        "    MaxPooling2D(pool_size=(2, 2)),\n",
        "\n",
        "\n",
        "    Flatten(),\n",
        "    Dense(256, activation='relu'),\n",
        "    Dropout(0.5),\n",
        "    Dense(3, activation='softmax')\n",
        "])\n",
        "\n",
        "# El modelo optimiza la función de pérdida loss\n",
        "modelo.compile(\n",
        "    optimizer = 'adam',\n",
        "    loss = 'sparse_categorical_crossentropy',\n",
        "    metrics = ['accuracy',\n",
        "             metrics.Recall(class_id = 0, name = 'recall_alzheimer'),  # Recall para Alzheimer (clase 0)\n",
        "             metrics.Recall(class_id = 2, name = 'recall_parkinson'),  # Recall para Parkinson (clase 2)\n",
        "             ]\n",
        ")"
      ]
    },
    {
      "cell_type": "markdown",
      "source": [
        "3.   Asignamos a cada clase unos pesos para penalizar más los errores en las categorías que clasifica menos bien.\n",
        "\n",
        "4.   Parada temprana mediante EarlyStopping:\n",
        "      *   Detiene el entrenamiento si durante 5 épocas no hay mejora en la périda de validación."
      ],
      "metadata": {
        "id": "sMtpj6l5vlNA"
      }
    },
    {
      "cell_type": "code",
      "execution_count": null,
      "metadata": {
        "id": "Dbt74FRtAYsc"
      },
      "outputs": [],
      "source": [
        "class_weight = {\n",
        "    0: 2.5,  # Alzheimer\n",
        "    1: 1.3,  # Normal\n",
        "    2: 1.0   # Parkinson\n",
        "}\n",
        "\n",
        "early_stopping = EarlyStopping(\n",
        "    monitor = 'val_loss',\n",
        "    patience = 5,         # Número de épocas sin mejora antes de detener\n",
        "   restore_best_weights = True  # Restaura los mejores pesos encontrados\n",
        ")"
      ]
    },
    {
      "cell_type": "markdown",
      "source": [
        "# Entrenamiento del modelo\n",
        "Entrenamos el modelo anterior durante 30 épocas y con un tamaño de batch de 32."
      ],
      "metadata": {
        "id": "CB0hAbIt1oVx"
      }
    },
    {
      "cell_type": "code",
      "execution_count": null,
      "metadata": {
        "colab": {
          "base_uri": "https://localhost:8080/"
        },
        "id": "6NIwx5ExN5YT",
        "outputId": "98f4bcfd-07bf-430b-d771-588cf639ff7c"
      },
      "outputs": [
        {
          "output_type": "stream",
          "name": "stdout",
          "text": [
            "Comenzanzo entrenamiento\n"
          ]
        },
        {
          "output_type": "stream",
          "name": "stderr",
          "text": [
            "/usr/local/lib/python3.11/dist-packages/keras/src/trainers/data_adapters/py_dataset_adapter.py:121: UserWarning: Your `PyDataset` class should call `super().__init__(**kwargs)` in its constructor. `**kwargs` can include `workers`, `use_multiprocessing`, `max_queue_size`. Do not pass these arguments to `fit()`, as they will be ignored.\n",
            "  self._warn_if_super_not_called()\n"
          ]
        },
        {
          "output_type": "stream",
          "name": "stdout",
          "text": [
            "Epoch 1/30\n",
            "\u001b[1m167/167\u001b[0m \u001b[32m━━━━━━━━━━━━━━━━━━━━\u001b[0m\u001b[37m\u001b[0m \u001b[1m36s\u001b[0m 185ms/step - accuracy: 0.5794 - loss: 1.1520 - recall_alzheimer: 0.4647 - recall_parkinson: 0.2389 - val_accuracy: 0.7134 - val_loss: 0.5271 - val_recall_alzheimer: 0.3791 - val_recall_parkinson: 0.4729\n",
            "Epoch 2/30\n",
            "\u001b[1m167/167\u001b[0m \u001b[32m━━━━━━━━━━━━━━━━━━━━\u001b[0m\u001b[37m\u001b[0m \u001b[1m30s\u001b[0m 181ms/step - accuracy: 0.7255 - loss: 0.7957 - recall_alzheimer: 0.4849 - recall_parkinson: 0.3037 - val_accuracy: 0.7879 - val_loss: 0.4328 - val_recall_alzheimer: 0.2048 - val_recall_parkinson: 0.4373\n",
            "Epoch 3/30\n",
            "\u001b[1m167/167\u001b[0m \u001b[32m━━━━━━━━━━━━━━━━━━━━\u001b[0m\u001b[37m\u001b[0m \u001b[1m30s\u001b[0m 181ms/step - accuracy: 0.7681 - loss: 0.7241 - recall_alzheimer: 0.4690 - recall_parkinson: 0.3010 - val_accuracy: 0.7897 - val_loss: 0.4071 - val_recall_alzheimer: 0.2285 - val_recall_parkinson: 0.4452\n",
            "Epoch 4/30\n",
            "\u001b[1m167/167\u001b[0m \u001b[32m━━━━━━━━━━━━━━━━━━━━\u001b[0m\u001b[37m\u001b[0m \u001b[1m30s\u001b[0m 181ms/step - accuracy: 0.8031 - loss: 0.6672 - recall_alzheimer: 0.4431 - recall_parkinson: 0.3206 - val_accuracy: 0.8054 - val_loss: 0.4148 - val_recall_alzheimer: 0.2312 - val_recall_parkinson: 0.4425\n",
            "Epoch 5/30\n",
            "\u001b[1m167/167\u001b[0m \u001b[32m━━━━━━━━━━━━━━━━━━━━\u001b[0m\u001b[37m\u001b[0m \u001b[1m30s\u001b[0m 181ms/step - accuracy: 0.7862 - loss: 0.6625 - recall_alzheimer: 0.4598 - recall_parkinson: 0.3042 - val_accuracy: 0.8160 - val_loss: 0.3608 - val_recall_alzheimer: 0.1691 - val_recall_parkinson: 0.4716\n",
            "Epoch 6/30\n",
            "\u001b[1m167/167\u001b[0m \u001b[32m━━━━━━━━━━━━━━━━━━━━\u001b[0m\u001b[37m\u001b[0m \u001b[1m30s\u001b[0m 181ms/step - accuracy: 0.7859 - loss: 0.6653 - recall_alzheimer: 0.4491 - recall_parkinson: 0.3192 - val_accuracy: 0.8168 - val_loss: 0.3607 - val_recall_alzheimer: 0.1453 - val_recall_parkinson: 0.4795\n",
            "Epoch 7/30\n",
            "\u001b[1m167/167\u001b[0m \u001b[32m━━━━━━━━━━━━━━━━━━━━\u001b[0m\u001b[37m\u001b[0m \u001b[1m30s\u001b[0m 181ms/step - accuracy: 0.7903 - loss: 0.6615 - recall_alzheimer: 0.4627 - recall_parkinson: 0.3145 - val_accuracy: 0.8256 - val_loss: 0.3469 - val_recall_alzheimer: 0.1955 - val_recall_parkinson: 0.4676\n",
            "Epoch 8/30\n",
            "\u001b[1m167/167\u001b[0m \u001b[32m━━━━━━━━━━━━━━━━━━━━\u001b[0m\u001b[37m\u001b[0m \u001b[1m30s\u001b[0m 181ms/step - accuracy: 0.8069 - loss: 0.6325 - recall_alzheimer: 0.4420 - recall_parkinson: 0.3112 - val_accuracy: 0.7967 - val_loss: 0.4220 - val_recall_alzheimer: 0.2391 - val_recall_parkinson: 0.4439\n",
            "Epoch 9/30\n",
            "\u001b[1m167/167\u001b[0m \u001b[32m━━━━━━━━━━━━━━━━━━━━\u001b[0m\u001b[37m\u001b[0m \u001b[1m30s\u001b[0m 181ms/step - accuracy: 0.8013 - loss: 0.6277 - recall_alzheimer: 0.4409 - recall_parkinson: 0.3075 - val_accuracy: 0.8317 - val_loss: 0.3463 - val_recall_alzheimer: 0.1202 - val_recall_parkinson: 0.4663\n",
            "Epoch 10/30\n",
            "\u001b[1m167/167\u001b[0m \u001b[32m━━━━━━━━━━━━━━━━━━━━\u001b[0m\u001b[37m\u001b[0m \u001b[1m30s\u001b[0m 182ms/step - accuracy: 0.8038 - loss: 0.6212 - recall_alzheimer: 0.4544 - recall_parkinson: 0.3227 - val_accuracy: 0.8466 - val_loss: 0.3167 - val_recall_alzheimer: 0.1440 - val_recall_parkinson: 0.4676\n",
            "Epoch 11/30\n",
            "\u001b[1m167/167\u001b[0m \u001b[32m━━━━━━━━━━━━━━━━━━━━\u001b[0m\u001b[37m\u001b[0m \u001b[1m30s\u001b[0m 181ms/step - accuracy: 0.8097 - loss: 0.6062 - recall_alzheimer: 0.4444 - recall_parkinson: 0.3098 - val_accuracy: 0.8177 - val_loss: 0.3432 - val_recall_alzheimer: 0.2312 - val_recall_parkinson: 0.4769\n",
            "Epoch 12/30\n",
            "\u001b[1m167/167\u001b[0m \u001b[32m━━━━━━━━━━━━━━━━━━━━\u001b[0m\u001b[37m\u001b[0m \u001b[1m30s\u001b[0m 181ms/step - accuracy: 0.8039 - loss: 0.6034 - recall_alzheimer: 0.4427 - recall_parkinson: 0.3002 - val_accuracy: 0.8046 - val_loss: 0.4585 - val_recall_alzheimer: 0.2629 - val_recall_parkinson: 0.4637\n",
            "Epoch 13/30\n",
            "\u001b[1m167/167\u001b[0m \u001b[32m━━━━━━━━━━━━━━━━━━━━\u001b[0m\u001b[37m\u001b[0m \u001b[1m30s\u001b[0m 181ms/step - accuracy: 0.8052 - loss: 0.6135 - recall_alzheimer: 0.4364 - recall_parkinson: 0.3194 - val_accuracy: 0.8028 - val_loss: 0.3560 - val_recall_alzheimer: 0.2642 - val_recall_parkinson: 0.4795\n",
            "Epoch 14/30\n",
            "\u001b[1m167/167\u001b[0m \u001b[32m━━━━━━━━━━━━━━━━━━━━\u001b[0m\u001b[37m\u001b[0m \u001b[1m30s\u001b[0m 182ms/step - accuracy: 0.8111 - loss: 0.5867 - recall_alzheimer: 0.4721 - recall_parkinson: 0.3075 - val_accuracy: 0.8440 - val_loss: 0.3076 - val_recall_alzheimer: 0.1532 - val_recall_parkinson: 0.4676\n",
            "Epoch 15/30\n",
            "\u001b[1m167/167\u001b[0m \u001b[32m━━━━━━━━━━━━━━━━━━━━\u001b[0m\u001b[37m\u001b[0m \u001b[1m30s\u001b[0m 182ms/step - accuracy: 0.8315 - loss: 0.5574 - recall_alzheimer: 0.4364 - recall_parkinson: 0.3181 - val_accuracy: 0.8037 - val_loss: 0.3650 - val_recall_alzheimer: 0.2668 - val_recall_parkinson: 0.4650\n",
            "Epoch 16/30\n",
            "\u001b[1m167/167\u001b[0m \u001b[32m━━━━━━━━━━━━━━━━━━━━\u001b[0m\u001b[37m\u001b[0m \u001b[1m30s\u001b[0m 181ms/step - accuracy: 0.8247 - loss: 0.5676 - recall_alzheimer: 0.4365 - recall_parkinson: 0.3359 - val_accuracy: 0.8493 - val_loss: 0.3000 - val_recall_alzheimer: 0.1202 - val_recall_parkinson: 0.4742\n",
            "Epoch 17/30\n",
            "\u001b[1m167/167\u001b[0m \u001b[32m━━━━━━━━━━━━━━━━━━━━\u001b[0m\u001b[37m\u001b[0m \u001b[1m30s\u001b[0m 181ms/step - accuracy: 0.8268 - loss: 0.5643 - recall_alzheimer: 0.4221 - recall_parkinson: 0.3148 - val_accuracy: 0.8554 - val_loss: 0.2944 - val_recall_alzheimer: 0.1638 - val_recall_parkinson: 0.4756\n",
            "Epoch 18/30\n",
            "\u001b[1m167/167\u001b[0m \u001b[32m━━━━━━━━━━━━━━━━━━━━\u001b[0m\u001b[37m\u001b[0m \u001b[1m30s\u001b[0m 181ms/step - accuracy: 0.8339 - loss: 0.5485 - recall_alzheimer: 0.4488 - recall_parkinson: 0.3095 - val_accuracy: 0.8361 - val_loss: 0.3121 - val_recall_alzheimer: 0.2140 - val_recall_parkinson: 0.4769\n",
            "Epoch 19/30\n",
            "\u001b[1m167/167\u001b[0m \u001b[32m━━━━━━━━━━━━━━━━━━━━\u001b[0m\u001b[37m\u001b[0m \u001b[1m30s\u001b[0m 180ms/step - accuracy: 0.8302 - loss: 0.5616 - recall_alzheimer: 0.4282 - recall_parkinson: 0.3192 - val_accuracy: 0.8545 - val_loss: 0.2993 - val_recall_alzheimer: 0.1797 - val_recall_parkinson: 0.4769\n",
            "Epoch 20/30\n",
            "\u001b[1m167/167\u001b[0m \u001b[32m━━━━━━━━━━━━━━━━━━━━\u001b[0m\u001b[37m\u001b[0m \u001b[1m30s\u001b[0m 179ms/step - accuracy: 0.8274 - loss: 0.5521 - recall_alzheimer: 0.4408 - recall_parkinson: 0.3119 - val_accuracy: 0.8317 - val_loss: 0.3475 - val_recall_alzheimer: 0.2351 - val_recall_parkinson: 0.4716\n",
            "Epoch 21/30\n",
            "\u001b[1m167/167\u001b[0m \u001b[32m━━━━━━━━━━━━━━━━━━━━\u001b[0m\u001b[37m\u001b[0m \u001b[1m30s\u001b[0m 180ms/step - accuracy: 0.8280 - loss: 0.5468 - recall_alzheimer: 0.4522 - recall_parkinson: 0.3124 - val_accuracy: 0.8422 - val_loss: 0.3214 - val_recall_alzheimer: 0.2153 - val_recall_parkinson: 0.4742\n",
            "Epoch 22/30\n",
            "\u001b[1m167/167\u001b[0m \u001b[32m━━━━━━━━━━━━━━━━━━━━\u001b[0m\u001b[37m\u001b[0m \u001b[1m30s\u001b[0m 181ms/step - accuracy: 0.8431 - loss: 0.5140 - recall_alzheimer: 0.4008 - recall_parkinson: 0.3186 - val_accuracy: 0.8361 - val_loss: 0.3298 - val_recall_alzheimer: 0.2206 - val_recall_parkinson: 0.4663\n",
            "Entrenamiento terminado\n"
          ]
        }
      ],
      "source": [
        "print(\"Comenzanzo entrenamiento\")\n",
        "historial = modelo.fit(\n",
        "    train_generator,\n",
        "    epochs = 30,\n",
        "    validation_data = validation_generator,\n",
        "    class_weight = class_weight,\n",
        "    callbacks = [early_stopping]\n",
        ")\n",
        "print(\"Entrenamiento terminado\")"
      ]
    },
    {
      "cell_type": "markdown",
      "source": [
        "# Evaluación del modelo\n",
        "Evaluamos el modelo entrenado en un conjunto de datos que no ha sido visto durante el entrenamiento, el conjunto test."
      ],
      "metadata": {
        "id": "bKLLrz8A128X"
      }
    },
    {
      "cell_type": "code",
      "execution_count": null,
      "metadata": {
        "colab": {
          "base_uri": "https://localhost:8080/"
        },
        "id": "Tk2Cir7QWUs4",
        "outputId": "a48e6601-6e2b-4c28-e302-3a4e456a29c9"
      },
      "outputs": [
        {
          "output_type": "stream",
          "name": "stdout",
          "text": [
            "\u001b[1m36/36\u001b[0m \u001b[32m━━━━━━━━━━━━━━━━━━━━\u001b[0m\u001b[37m\u001b[0m \u001b[1m1s\u001b[0m 37ms/step - accuracy: 0.8723 - loss: 0.3209 - recall_alzheimer: 0.1400 - recall_parkinson: 0.1125\n",
            "Test Accuracy: 86.72%\n",
            "Pérdida: 0.29\n"
          ]
        }
      ],
      "source": [
        "evaluation = modelo.evaluate(test_generator)\n",
        "print(f'Test Accuracy: {evaluation[1] * 100:.2f}%')\n",
        "print(f'Pérdida: {evaluation[0]:.2f}')"
      ]
    },
    {
      "cell_type": "code",
      "execution_count": null,
      "metadata": {
        "colab": {
          "base_uri": "https://localhost:8080/",
          "height": 931
        },
        "id": "t8NRjP2ncDnB",
        "outputId": "f42c4908-9ad0-4637-c749-bac84d1b57bb"
      },
      "outputs": [
        {
          "output_type": "display_data",
          "data": {
            "text/plain": [
              "<Figure size 640x480 with 1 Axes>"
            ],
            "image/png": "[encoded data removed]"
          },
          "metadata": {}
        },
        {
          "output_type": "display_data",
          "data": {
            "text/plain": [
              "<Figure size 640x480 with 1 Axes>"
            ],
            "image/png": "[encoded data removed]"
          },
          "metadata": {}
        }
      ],
      "source": [
        "# Pérdida (loss)\n",
        "plt.plot(historial.history['loss'], label='Entrenamiento')\n",
        "plt.plot(historial.history['val_loss'], label='Validación')\n",
        "plt.title('Pérdida durante el entrenamiento')\n",
        "plt.xlabel('Época')\n",
        "plt.ylabel('Pérdida')\n",
        "plt.legend()\n",
        "plt.show()\n",
        "\n",
        "# Precisión global (accuracy)\n",
        "plt.plot(historial.history['accuracy'], label='Entrenamiento')\n",
        "plt.plot(historial.history['val_accuracy'], label='Validación')\n",
        "plt.title('Accuracy durante el entrenamiento')\n",
        "plt.xlabel('Época')\n",
        "plt.ylabel('Accuracy')\n",
        "plt.legend()\n",
        "plt.show()\n"
      ]
    },
    {
      "cell_type": "markdown",
      "source": [
        "# Métricas\n",
        "1.   Calculamos las probabilidades de que cada imagen del conjunto test pertecezca a cada clase (y_pred_probs).\n",
        "2.   Después se toma para cada valor el argumento máximo, conviertiéndose en la clase predicha (y_pred).\n",
        "3.   Por último, calculamos la matriz de confusión comparando lo que se ha obtenido al predecir (y_pred) y lo que realmente es (y_true).\n"
      ],
      "metadata": {
        "id": "XCgeowwd2Qwq"
      }
    },
    {
      "cell_type": "code",
      "execution_count": null,
      "metadata": {
        "colab": {
          "base_uri": "https://localhost:8080/"
        },
        "id": "lJi4TQmHdWNe",
        "outputId": "cdf16454-3906-4d0b-a978-b3db63c2fbbf"
      },
      "outputs": [
        {
          "output_type": "stream",
          "name": "stdout",
          "text": [
            "\u001b[1m36/36\u001b[0m \u001b[32m━━━━━━━━━━━━━━━━━━━━\u001b[0m\u001b[37m\u001b[0m \u001b[1m1s\u001b[0m 36ms/step\n",
            "Confusion Matrix\n",
            "[[336  39   0]\n",
            " [112 292   0]\n",
            " [  0   0 358]]\n"
          ]
        }
      ],
      "source": [
        "# Obtener predicciones del modelo sobre el conjunto de test\n",
        "y_pred_probs = modelo.predict(test_generator)      # Probabilidades\n",
        "y_pred = np.argmax(y_pred_probs, axis=1)           # Clase predicha\n",
        "\n",
        "# Obtener las verdaderas etiquetas\n",
        "y_true = test_generator.classes\n",
        "\n",
        "# Matriz de confusión\n",
        "print('Confusion Matrix')\n",
        "cm = confusion_matrix(y_true, y_pred)\n",
        "print(cm)\n"
      ]
    },
    {
      "cell_type": "code",
      "execution_count": null,
      "metadata": {
        "colab": {
          "base_uri": "https://localhost:8080/"
        },
        "id": "T97v1NWvdcnE",
        "outputId": "976d77a7-581d-4c93-e594-0d3b24282e27"
      },
      "outputs": [
        {
          "output_type": "stream",
          "name": "stdout",
          "text": [
            "                    precision    recall  f1-score   support\n",
            "\n",
            "alzheimers_dataset       0.75      0.90      0.82       375\n",
            "            normal       0.88      0.72      0.79       404\n",
            "parkinsons_dataset       1.00      1.00      1.00       358\n",
            "\n",
            "          accuracy                           0.87      1137\n",
            "         macro avg       0.88      0.87      0.87      1137\n",
            "      weighted avg       0.88      0.87      0.87      1137\n",
            "\n"
          ]
        }
      ],
      "source": [
        "# Informe de clasificación\n",
        "print(classification_report(y_true, y_pred, target_names=test_generator.class_indices.keys()))"
      ]
    },
    {
      "cell_type": "code",
      "execution_count": null,
      "metadata": {
        "id": "FVIAmC6qgJ2O"
      },
      "outputs": [],
      "source": [
        "VP1=cm[0,0]\n",
        "VP2=cm[1,1]\n",
        "VP3=cm[2,2]\n",
        "VP=[VP1,VP2,VP3]\n",
        "\n",
        "#Total reales por clase (suma filas)\n",
        "total_real = np.sum(cm, axis=1)\n",
        "\n",
        "# Total predichos por clase (suma columnas)\n",
        "total_pred = np.sum(cm, axis=0)\n",
        "suma_total = np.sum(cm)\n",
        "\n",
        "#Métricas\n",
        "Accuracy = (VP1+VP2+VP3)/suma_total\n",
        "Tasa_error = 1-Accuracy\n",
        "precision = VP / total_pred\n",
        "recall = VP / total_real\n",
        "f1 = 2 * (precision * recall) / (precision + recall)"
      ]
    },
    {
      "cell_type": "code",
      "execution_count": null,
      "metadata": {
        "colab": {
          "base_uri": "https://localhost:8080/"
        },
        "id": "0iiOZrXwjPbJ",
        "outputId": "a97880d4-4d2e-4162-8503-52a62b0c9c56"
      },
      "outputs": [
        {
          "output_type": "stream",
          "name": "stdout",
          "text": [
            "Accuracy: 0.867\n",
            "Tasa de error: 0.133\n",
            "Clase 0:\n",
            "  Precisión: 0.750\n",
            "  Recall:    0.896\n",
            "  F1-score:  0.817\n",
            "Clase 1:\n",
            "  Precisión: 0.882\n",
            "  Recall:    0.723\n",
            "  F1-score:  0.795\n",
            "Clase 2:\n",
            "  Precisión: 1.000\n",
            "  Recall:    1.000\n",
            "  F1-score:  1.000\n"
          ]
        }
      ],
      "source": [
        "print(f\"Accuracy: {Accuracy:.3f}\")\n",
        "print(f\"Tasa de error: {Tasa_error:.3f}\")\n",
        "for i in range(len(VP)):\n",
        "    print(f\"Clase {i}:\")\n",
        "    print(f\"  Precisión: {precision[i]:.3f}\")\n",
        "    print(f\"  Recall:    {recall[i]:.3f}\")\n",
        "    print(f\"  F1-score:  {f1[i]:.3f}\")\n"
      ]
    }
  ],
  "metadata": {
    "accelerator": "GPU",
    "colab": {
      "gpuType": "L4",
      "machine_shape": "hm",
      "provenance": [],
      "authorship_tag": "ABX9TyPsgsv+g/z1AFQpE+rpucf/",
      "include_colab_link": true
    },
    "kernelspec": {
      "display_name": "Python 3",
      "name": "python3"
    },
    "language_info": {
      "name": "python"
    }
  },
  "nbformat": 4,
  "nbformat_minor": 0
}