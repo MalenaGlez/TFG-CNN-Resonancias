{
  "nbformat": 4,
  "nbformat_minor": 0,
  "metadata": {
    "colab": {
      "provenance": [],
      "gpuType": "T4",
      "authorship_tag": "ABX9TyOq+RgfjHJD+GKTnE25a/h/",
      "include_colab_link": true
    },
    "kernelspec": {
      "name": "python3",
      "display_name": "Python 3"
    },
    "language_info": {
      "name": "python"
    },
    "accelerator": "GPU"
  },
  "cells": [
    {
      "cell_type": "markdown",
      "metadata": {
        "id": "view-in-github",
        "colab_type": "text"
      },
      "source": [
        "<a href=\"https://colab.research.google.com/github/MalenaGlez/TFG-CNN-Resonancias/blob/main/Modelo1.ipynb\" target=\"_parent\"><img src=\"https://colab.research.google.com/assets/colab-badge.svg\" alt=\"Open In Colab\"/></a>"
      ]
    },
    {
      "cell_type": "code",
      "source": [
        "from google.colab import drive\n",
        "drive.mount('/content/drive')"
      ],
      "metadata": {
        "colab": {
          "base_uri": "https://localhost:8080/"
        },
        "id": "CUCSEQc9TOEB",
        "outputId": "ee4cea44-4853-4d41-f6b6-551fa125b23c"
      },
      "execution_count": 1,
      "outputs": [
        {
          "output_type": "stream",
          "name": "stdout",
          "text": [
            "Mounted at /content/drive\n"
          ]
        }
      ]
    },
    {
      "cell_type": "code",
      "source": [
        "# Importaciones\n",
        "import shutil\n",
        "import os\n",
        "import cv2\n",
        "import numpy as np\n",
        "import random\n",
        "import matplotlib.pyplot as plt\n",
        "\n",
        "import tensorflow as tf\n",
        "from tensorflow.keras.models import Sequential\n",
        "from tensorflow.keras.layers import Conv2D, MaxPooling2D, Flatten, Dense, Dropout, Input, BatchNormalization, Activation\n",
        "from tensorflow.keras.callbacks import EarlyStopping\n",
        "\n",
        "from sklearn.metrics import classification_report, confusion_matrix\n"
      ],
      "metadata": {
        "id": "M0phnZQJNLLH"
      },
      "execution_count": 2,
      "outputs": []
    },
    {
      "cell_type": "markdown",
      "source": [
        "Se fija una semilla para que los resultados sean reproducibles:"
      ],
      "metadata": {
        "id": "sO1XWdHJZ3Er"
      }
    },
    {
      "cell_type": "code",
      "source": [
        "semilla = 13\n",
        "\n",
        "np.random.seed(semilla)\n",
        "random.seed(semilla)\n",
        "tf.random.set_seed(semilla)\n",
        "os.environ['PYTHONHASHSEED'] = str(semilla)\n",
        "\n",
        "# Hacer deterministas las operaciones\n",
        "tf.keras.utils.set_random_seed(semilla)\n",
        "tf.config.experimental.enable_op_determinism()"
      ],
      "metadata": {
        "id": "NcqWgYc7urqX"
      },
      "execution_count": 3,
      "outputs": []
    },
    {
      "cell_type": "markdown",
      "source": [
        "Rutas de los datos ya procesados, es decir, ya están divididos en train, test y val, y además las imágenes están redimensionadas. Esto se ha hecho en DataPreparation.ipynb"
      ],
      "metadata": {
        "id": "KCU1ToVmXNz2"
      }
    },
    {
      "cell_type": "code",
      "source": [
        "#Rutas de los datos ya procesados:\n",
        "processed_dir='/content/drive/My Drive/processed_data'\n",
        "train_dir = os.path.join(processed_dir, 'train')\n",
        "test_dir = os.path.join(processed_dir, 'test')\n",
        "val_dir = os.path.join(processed_dir, 'val')"
      ],
      "metadata": {
        "id": "IHUABeuWTj2S"
      },
      "execution_count": 4,
      "outputs": []
    },
    {
      "cell_type": "code",
      "source": [
        "clases = sorted([d for d in os.listdir(train_dir) if os.path.isdir(os.path.join(train_dir, d))])\n",
        "print(clases)"
      ],
      "metadata": {
        "id": "vvQqfKpOvH_N",
        "colab": {
          "base_uri": "https://localhost:8080/"
        },
        "outputId": "db9353c8-f70e-4769-a6cc-9e36f681dade"
      },
      "execution_count": 5,
      "outputs": [
        {
          "output_type": "stream",
          "name": "stdout",
          "text": [
            "['alzheimers_dataset', 'normal', 'parkinsons_dataset']\n"
          ]
        }
      ]
    },
    {
      "cell_type": "markdown",
      "source": [
        "De esta forma podemos saber que el programa tratará a las clases como:\n",
        "\n",
        "\n",
        "*   Clase 0 : Alzheimer\n",
        "*   Clase 1 : Normal\n",
        "*   Clase 2 : Parkinson\n",
        "\n",
        "\n",
        "\n",
        "\n",
        "\n",
        "\n"
      ],
      "metadata": {
        "id": "73_j3R7P0s7F"
      }
    },
    {
      "cell_type": "markdown",
      "source": [
        "Con la siguiente función se preparan los datos como arrays numéricos normalizados para ser usados por el modelo de Keras:"
      ],
      "metadata": {
        "id": "yUfaQnlbXvJ4"
      }
    },
    {
      "cell_type": "code",
      "source": [
        "def preparation_images(source):\n",
        "    \"\"\"\n",
        "    source : carpeta de imágenes que se quiere preparar. En esta carpeta\n",
        "    debe haber subcarpetas con las imágenes de cada clase.\n",
        "\n",
        "    Returns\n",
        "    Esta función devuelve un vector x con las imagénes normalizadas a [0,1],\n",
        "    con forma (224,224,1), es decir, con dimensión 224x224 y esacala de grises (1).\n",
        "    Por otro lado, devuelve un vector y con las etiquetas de cada clase (0,1,2).\n",
        "\n",
        "    \"\"\"\n",
        "    x = [] # contiene las entradas, que en este caso son imágenes\n",
        "    y = [] # contiene las etiquetas correspondientes a cada imagen (0, 1 o 2)\n",
        "\n",
        "    for label, class_name in enumerate(clases):\n",
        "        ruta_clase = os.path.join(source, class_name)\n",
        "\n",
        "        # Si la carpeta no existe, se la salta\n",
        "        if not os.path.isdir(ruta_clase):\n",
        "            continue\n",
        "\n",
        "        # Por cada imagen de la ruta_clase, se carga la imagen\n",
        "        for filename in os.listdir(ruta_clase):\n",
        "\n",
        "            # Se comprueba el formato\n",
        "            if filename.lower().endswith(('.jpg', '.jpeg', '.png')):\n",
        "                file_path = os.path.join(ruta_clase, filename)\n",
        "                img = cv2.imread(file_path, cv2.IMREAD_GRAYSCALE)\n",
        "\n",
        "                if img is not None:\n",
        "\n",
        "                    # Normalizamos las imágenes a escala [0,1]\n",
        "                    img = img.astype('float32') / 255.0\n",
        "\n",
        "                    # Adaptamos su forma\n",
        "                    img = np.expand_dims(img, axis=-1)  # (224, 224) -> (224, 224, 1)\n",
        "                    x.append(img)\n",
        "                    y.append(label)\n",
        "\n",
        "    return np.array(x), np.array(y), clases\n"
      ],
      "metadata": {
        "id": "E2XpB7ZgvJpi"
      },
      "execution_count": 10,
      "outputs": []
    },
    {
      "cell_type": "markdown",
      "source": [
        "Aplicamos la función anterior a cada conjunto de datos que va a ser usardo en el modelo:"
      ],
      "metadata": {
        "id": "GBsW018RYtTc"
      }
    },
    {
      "cell_type": "code",
      "source": [
        "x_train, y_train, class_names = preparation_images(train_dir)\n",
        "x_test, y_test, _ = preparation_images(test_dir)\n",
        "x_val, y_val, _ = preparation_images(val_dir)"
      ],
      "metadata": {
        "id": "wlYmeQU5vNTG"
      },
      "execution_count": 11,
      "outputs": []
    },
    {
      "cell_type": "markdown",
      "source": [
        "# Configuración del entrenamiento\n",
        "\n",
        "1.   Creamos el modelo de red neuronal convolucional, compuesto por:\n",
        "      *   Tres bloques convolucionales.\n",
        "      *   Una capa densa y otra capa de salida.\n",
        "2.   Parada temprana mediante EarlyStopping:\n",
        "      *   Detiene el entrenamiento si durante 3 épocas no hay mejora en la périda de validación.\n",
        "3.   Compilamos el modelo:\n",
        "      *   Como optimizador para los pesos usamos 'adam', explicado en teoría.\n",
        "      *   La función de pérdida es 'sparse_categorical_crossentropy' porque las etiquetas creadas por por 'preparation_images' son enteros (0, 1 o 2).\n",
        "\n",
        "\n",
        "\n",
        "\n",
        "\n",
        "\n",
        "\n",
        "\n",
        "\n",
        "\n",
        "\n"
      ],
      "metadata": {
        "id": "bZ5m2UApY5IL"
      }
    },
    {
      "cell_type": "code",
      "source": [
        "modelo = Sequential([\n",
        "    Input(shape=(224, 224, 1)),\n",
        "    Conv2D(32, (3, 3)),\n",
        "    BatchNormalization(),\n",
        "    Activation('relu'),\n",
        "    MaxPooling2D(pool_size=(2, 2)),\n",
        "\n",
        "    Conv2D(64, (3, 3)),\n",
        "    BatchNormalization(),\n",
        "    Activation('relu'),\n",
        "    MaxPooling2D(pool_size=(2, 2)),\n",
        "\n",
        "    Conv2D(128, (3, 3)),\n",
        "    Activation('relu'),\n",
        "    MaxPooling2D(pool_size=(2, 2)),\n",
        "\n",
        "    Flatten(),\n",
        "    Dense(128, activation='relu'),\n",
        "    Dropout(0.5),\n",
        "\n",
        "    Dense(3, activation='softmax')\n",
        "])\n",
        "\n",
        "early_stopping = EarlyStopping(\n",
        "    monitor='val_loss',\n",
        "    patience=3,         # Número de épocas sin mejora antes de detener el entrenamiento\n",
        "    restore_best_weights=True  # Restaura los mejores pesos que se han encontrado\n",
        ")\n",
        "\n",
        "modelo.compile(\n",
        "    optimizer='adam',\n",
        "    loss='sparse_categorical_crossentropy',  # Usamos etiquetas como enteros (0, 1, 2)\n",
        "    metrics=['accuracy']\n",
        ")"
      ],
      "metadata": {
        "id": "td_4vKWsN3Cf"
      },
      "execution_count": 12,
      "outputs": []
    },
    {
      "cell_type": "markdown",
      "source": [
        "# Entrenamiento del modelo\n",
        "Entrenamos el modelo anterior durante 20 épocas y con un tamaño de batch de 32.\n"
      ],
      "metadata": {
        "id": "S8G7t_hpbjNN"
      }
    },
    {
      "cell_type": "code",
      "source": [
        "print(\"Comenzanzo entrenamiento\")\n",
        "historial = modelo.fit(\n",
        "    x_train, y_train,\n",
        "    epochs=20,            # Cuántas veces pasa por todos los datos\n",
        "    batch_size=32,        # Número de imágenes usadas por paso de entrenamiento\n",
        "    validation_data=(x_val, y_val),\n",
        "    callbacks=[early_stopping],\n",
        "    shuffle=True          # De esta forma el modelo no aprende patrones basados\n",
        "                          # en el orden de los datos\n",
        ")\n",
        "print(\"Entrenamiento terminado\")"
      ],
      "metadata": {
        "colab": {
          "base_uri": "https://localhost:8080/"
        },
        "id": "6NIwx5ExN5YT",
        "outputId": "48d1e0c3-7b99-4dc4-f503-92e7e4405d10"
      },
      "execution_count": 13,
      "outputs": [
        {
          "output_type": "stream",
          "name": "stdout",
          "text": [
            "Comenzanzo entrenamiento\n",
            "Epoch 1/20\n",
            "\u001b[1m166/166\u001b[0m \u001b[32m━━━━━━━━━━━━━━━━━━━━\u001b[0m\u001b[37m\u001b[0m \u001b[1m26s\u001b[0m 120ms/step - accuracy: 0.6594 - loss: 2.9624 - val_accuracy: 0.3155 - val_loss: 2.4409\n",
            "Epoch 2/20\n",
            "\u001b[1m166/166\u001b[0m \u001b[32m━━━━━━━━━━━━━━━━━━━━\u001b[0m\u001b[37m\u001b[0m \u001b[1m19s\u001b[0m 116ms/step - accuracy: 0.8366 - loss: 0.3414 - val_accuracy: 0.5031 - val_loss: 1.2829\n",
            "Epoch 3/20\n",
            "\u001b[1m166/166\u001b[0m \u001b[32m━━━━━━━━━━━━━━━━━━━━\u001b[0m\u001b[37m\u001b[0m \u001b[1m21s\u001b[0m 117ms/step - accuracy: 0.8657 - loss: 0.2879 - val_accuracy: 0.8484 - val_loss: 0.3467\n",
            "Epoch 4/20\n",
            "\u001b[1m166/166\u001b[0m \u001b[32m━━━━━━━━━━━━━━━━━━━━\u001b[0m\u001b[37m\u001b[0m \u001b[1m19s\u001b[0m 116ms/step - accuracy: 0.8870 - loss: 0.2530 - val_accuracy: 0.8975 - val_loss: 0.2404\n",
            "Epoch 5/20\n",
            "\u001b[1m166/166\u001b[0m \u001b[32m━━━━━━━━━━━━━━━━━━━━\u001b[0m\u001b[37m\u001b[0m \u001b[1m20s\u001b[0m 119ms/step - accuracy: 0.9142 - loss: 0.2095 - val_accuracy: 0.9141 - val_loss: 0.1915\n",
            "Epoch 6/20\n",
            "\u001b[1m166/166\u001b[0m \u001b[32m━━━━━━━━━━━━━━━━━━━━\u001b[0m\u001b[37m\u001b[0m \u001b[1m20s\u001b[0m 118ms/step - accuracy: 0.9323 - loss: 0.1743 - val_accuracy: 0.9229 - val_loss: 0.1937\n",
            "Epoch 7/20\n",
            "\u001b[1m166/166\u001b[0m \u001b[32m━━━━━━━━━━━━━━━━━━━━\u001b[0m\u001b[37m\u001b[0m \u001b[1m20s\u001b[0m 117ms/step - accuracy: 0.9373 - loss: 0.1641 - val_accuracy: 0.9413 - val_loss: 0.1573\n",
            "Epoch 8/20\n",
            "\u001b[1m166/166\u001b[0m \u001b[32m━━━━━━━━━━━━━━━━━━━━\u001b[0m\u001b[37m\u001b[0m \u001b[1m20s\u001b[0m 119ms/step - accuracy: 0.9495 - loss: 0.1242 - val_accuracy: 0.9273 - val_loss: 0.1735\n",
            "Epoch 9/20\n",
            "\u001b[1m166/166\u001b[0m \u001b[32m━━━━━━━━━━━━━━━━━━━━\u001b[0m\u001b[37m\u001b[0m \u001b[1m20s\u001b[0m 118ms/step - accuracy: 0.9664 - loss: 0.0923 - val_accuracy: 0.9413 - val_loss: 0.1495\n",
            "Epoch 10/20\n",
            "\u001b[1m166/166\u001b[0m \u001b[32m━━━━━━━━━━━━━━━━━━━━\u001b[0m\u001b[37m\u001b[0m \u001b[1m20s\u001b[0m 119ms/step - accuracy: 0.9721 - loss: 0.0831 - val_accuracy: 0.9562 - val_loss: 0.1359\n",
            "Epoch 11/20\n",
            "\u001b[1m166/166\u001b[0m \u001b[32m━━━━━━━━━━━━━━━━━━━━\u001b[0m\u001b[37m\u001b[0m \u001b[1m20s\u001b[0m 118ms/step - accuracy: 0.9705 - loss: 0.0789 - val_accuracy: 0.9509 - val_loss: 0.1324\n",
            "Epoch 12/20\n",
            "\u001b[1m166/166\u001b[0m \u001b[32m━━━━━━━━━━━━━━━━━━━━\u001b[0m\u001b[37m\u001b[0m \u001b[1m20s\u001b[0m 118ms/step - accuracy: 0.9783 - loss: 0.0640 - val_accuracy: 0.9500 - val_loss: 0.1636\n",
            "Epoch 13/20\n",
            "\u001b[1m166/166\u001b[0m \u001b[32m━━━━━━━━━━━━━━━━━━━━\u001b[0m\u001b[37m\u001b[0m \u001b[1m21s\u001b[0m 120ms/step - accuracy: 0.9819 - loss: 0.0481 - val_accuracy: 0.9553 - val_loss: 0.1246\n",
            "Epoch 14/20\n",
            "\u001b[1m166/166\u001b[0m \u001b[32m━━━━━━━━━━━━━━━━━━━━\u001b[0m\u001b[37m\u001b[0m \u001b[1m21s\u001b[0m 121ms/step - accuracy: 0.9827 - loss: 0.0442 - val_accuracy: 0.9474 - val_loss: 0.1554\n",
            "Epoch 15/20\n",
            "\u001b[1m166/166\u001b[0m \u001b[32m━━━━━━━━━━━━━━━━━━━━\u001b[0m\u001b[37m\u001b[0m \u001b[1m20s\u001b[0m 118ms/step - accuracy: 0.9730 - loss: 0.0717 - val_accuracy: 0.9553 - val_loss: 0.1517\n",
            "Epoch 16/20\n",
            "\u001b[1m166/166\u001b[0m \u001b[32m━━━━━━━━━━━━━━━━━━━━\u001b[0m\u001b[37m\u001b[0m \u001b[1m21s\u001b[0m 119ms/step - accuracy: 0.9752 - loss: 0.0610 - val_accuracy: 0.9492 - val_loss: 0.1701\n",
            "Entrenamiento terminado\n"
          ]
        }
      ]
    },
    {
      "cell_type": "markdown",
      "source": [
        "# Evaluación del modelo\n",
        "Evaluamos el modelo entrenado en un conjunto de datos que no ha sido visto durante el entrenamiento, el conjunto test."
      ],
      "metadata": {
        "id": "Oye84Gwyb6Io"
      }
    },
    {
      "cell_type": "code",
      "source": [
        "evaluation = modelo.evaluate(x_test, y_test)\n",
        "print(f'Test Accuracy: {evaluation[1] * 100:.2f}%')\n",
        "print(f'Pérdida: {evaluation[0]:.2f}')"
      ],
      "metadata": {
        "colab": {
          "base_uri": "https://localhost:8080/"
        },
        "id": "Tk2Cir7QWUs4",
        "outputId": "002fd6b9-f4b9-4992-e954-097cfc3a013c"
      },
      "execution_count": 14,
      "outputs": [
        {
          "output_type": "stream",
          "name": "stdout",
          "text": [
            "\u001b[1m36/36\u001b[0m \u001b[32m━━━━━━━━━━━━━━━━━━━━\u001b[0m\u001b[37m\u001b[0m \u001b[1m1s\u001b[0m 29ms/step - accuracy: 0.9403 - loss: 0.1357\n",
            "Test Accuracy: 95.95%\n",
            "Pérdida: 0.10\n"
          ]
        }
      ]
    },
    {
      "cell_type": "code",
      "source": [
        "# Pérdida (loss)\n",
        "plt.plot(historial.history['loss'], label='Entrenamiento')\n",
        "plt.plot(historial.history['val_loss'], label='Validación')\n",
        "plt.title('Pérdida durante el entrenamiento')\n",
        "plt.xlabel('Época')\n",
        "plt.ylabel('Pérdida')\n",
        "plt.legend()\n",
        "plt.show()\n",
        "\n",
        "# Accuracy\n",
        "plt.plot(historial.history['accuracy'], label='Entrenamiento')\n",
        "plt.plot(historial.history['val_accuracy'], label='Validación')\n",
        "plt.title('Precisión durante el entrenamiento')\n",
        "plt.xlabel('Época')\n",
        "plt.ylabel('Precisión')\n",
        "plt.legend()\n",
        "plt.show()\n"
      ],
      "metadata": {
        "colab": {
          "base_uri": "https://localhost:8080/",
          "height": 931
        },
        "id": "t8NRjP2ncDnB",
        "outputId": "d3a7ce9b-5a4d-4f9d-884a-5b45668df929"
      },
      "execution_count": 15,
      "outputs": [
        {
          "output_type": "display_data",
          "data": {
            "text/plain": [
              "<Figure size 640x480 with 1 Axes>"
            ],
            "image/png": "[encoded data removed]"
          },
          "metadata": {}
        },
        {
          "output_type": "display_data",
          "data": {
            "text/plain": [
              "<Figure size 640x480 with 1 Axes>"
            ],
            "image/png": "[encoded data removed]"
          },
          "metadata": {}
        }
      ]
    },
    {
      "cell_type": "markdown",
      "source": [
        "# Métricas\n",
        "1.   Calculamos las probabilidades de que cada elemento de x_test pertecezca a cada clase (y_pred_probs).\n",
        "1.   Después se toma para cada valor el argumento máximo, conviertiéndose en la clase predicha (y_pred).\n",
        "2.   Por último, calculamos la matriz de confusión comparando lo que se ha obtenido al predecir (y_pred) y lo que realmente es (y_test).\n",
        "\n",
        "\n",
        "\n",
        "\n"
      ],
      "metadata": {
        "id": "8eIQ6mYbcftj"
      }
    },
    {
      "cell_type": "code",
      "source": [
        "y_pred_probs = modelo.predict(x_test)     # Probabilidades\n",
        "y_pred = np.argmax(y_pred_probs, axis=1)  # Clase predicha\n",
        "\n",
        "# Matriz de confusión\n",
        "print('Confusion Matrix')\n",
        "cm = confusion_matrix(y_test, y_pred)\n",
        "print(cm)"
      ],
      "metadata": {
        "colab": {
          "base_uri": "https://localhost:8080/"
        },
        "id": "lJi4TQmHdWNe",
        "outputId": "62f27cc9-a0c0-4ac4-8a0b-a1abbbfea78f"
      },
      "execution_count": 16,
      "outputs": [
        {
          "output_type": "stream",
          "name": "stdout",
          "text": [
            "\u001b[1m36/36\u001b[0m \u001b[32m━━━━━━━━━━━━━━━━━━━━\u001b[0m\u001b[37m\u001b[0m \u001b[1m1s\u001b[0m 32ms/step\n",
            "Confusion Matrix\n",
            "[[347  28   0]\n",
            " [ 17 387   0]\n",
            " [  0   1 357]]\n"
          ]
        }
      ]
    },
    {
      "cell_type": "code",
      "source": [
        "# Informe de clasificación\n",
        "print(classification_report(y_test, y_pred, target_names=clases))"
      ],
      "metadata": {
        "colab": {
          "base_uri": "https://localhost:8080/"
        },
        "id": "tS4uiPRJsDRE",
        "outputId": "938bcaf7-f9f8-4d07-eecf-34014a052f91"
      },
      "execution_count": 17,
      "outputs": [
        {
          "output_type": "stream",
          "name": "stdout",
          "text": [
            "                    precision    recall  f1-score   support\n",
            "\n",
            "alzheimers_dataset       0.95      0.93      0.94       375\n",
            "            normal       0.93      0.96      0.94       404\n",
            "parkinsons_dataset       1.00      1.00      1.00       358\n",
            "\n",
            "          accuracy                           0.96      1137\n",
            "         macro avg       0.96      0.96      0.96      1137\n",
            "      weighted avg       0.96      0.96      0.96      1137\n",
            "\n"
          ]
        }
      ]
    },
    {
      "cell_type": "markdown",
      "source": [
        "Otra forma de calcular las métricas de forma manual:"
      ],
      "metadata": {
        "id": "Uuu4GudzSzql"
      }
    },
    {
      "cell_type": "code",
      "source": [
        "VP1=cm[0,0]\n",
        "VP2=cm[1,1]\n",
        "VP3=cm[2,2]\n",
        "VP=[VP1,VP2,VP3]\n",
        "\n",
        "#Total reales por clase (suma filas)\n",
        "total_real = np.sum(cm, axis=1)\n",
        "# Total predichos por clase (suma columnas)\n",
        "total_pred = np.sum(cm, axis=0)\n",
        "suma_total = np.sum(cm)\n",
        "\n",
        "\n",
        "Accuracy=(VP1+VP2+VP3)/suma_total\n",
        "Tasa_error=1-Accuracy"
      ],
      "metadata": {
        "id": "FVIAmC6qgJ2O"
      },
      "execution_count": 23,
      "outputs": []
    },
    {
      "cell_type": "code",
      "source": [
        "print(f\"Accuracy: {Accuracy:.3f}\")\n",
        "print(f\"Tasa de error: {Tasa_error:.3f}\")\n",
        "for i in range(len(VP)):\n",
        "    print(f\"Clase {i}:\")\n",
        "    print(f\"  Precisión: {precision[i]:.3f}\")\n",
        "    print(f\"  Recall:    {recall[i]:.3f}\")\n",
        "    print(f\"  F1-score:  {f1[i]:.3f}\")\n"
      ],
      "metadata": {
        "colab": {
          "base_uri": "https://localhost:8080/"
        },
        "id": "0iiOZrXwjPbJ",
        "outputId": "0d7caf09-aa0e-4f94-9ad5-19d2bc500b8e"
      },
      "execution_count": 24,
      "outputs": [
        {
          "output_type": "stream",
          "name": "stdout",
          "text": [
            "Accuracy: 0.960\n",
            "Tasa de error: 0.040\n",
            "Clase 0:\n",
            "  Precisión: 0.953\n",
            "  Recall:    0.925\n",
            "  F1-score:  0.939\n",
            "Clase 1:\n",
            "  Precisión: 0.930\n",
            "  Recall:    0.958\n",
            "  F1-score:  0.944\n",
            "Clase 2:\n",
            "  Precisión: 1.000\n",
            "  Recall:    0.997\n",
            "  F1-score:  0.999\n"
          ]
        }
      ]
    }
  ]
}